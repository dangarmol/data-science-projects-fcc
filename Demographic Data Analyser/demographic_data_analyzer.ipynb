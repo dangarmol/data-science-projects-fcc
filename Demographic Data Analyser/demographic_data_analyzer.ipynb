{
 "cells": [
  {
   "cell_type": "markdown",
   "metadata": {},
   "source": [
    "# Just a playground for trying my ideas"
   ]
  },
  {
   "cell_type": "markdown",
   "metadata": {},
   "source": [
    "##### For the solution code, go to the .py file with the same name"
   ]
  },
  {
   "cell_type": "code",
   "execution_count": 1,
   "metadata": {},
   "outputs": [],
   "source": [
    "import pandas as pd"
   ]
  },
  {
   "cell_type": "code",
   "execution_count": 3,
   "metadata": {},
   "outputs": [],
   "source": [
    "df = pd.read_csv(\"adult.data.csv\")"
   ]
  },
  {
   "cell_type": "code",
   "execution_count": 10,
   "metadata": {},
   "outputs": [
    {
     "data": {
      "text/plain": [
       "array(['White', 'Black', 'Asian-Pac-Islander', 'Amer-Indian-Eskimo',\n",
       "       'Other'], dtype=object)"
      ]
     },
     "execution_count": 10,
     "metadata": {},
     "output_type": "execute_result"
    }
   ],
   "source": [
    "df[\"race\"].unique()  # Returns array of unique values"
   ]
  },
  {
   "cell_type": "markdown",
   "metadata": {},
   "source": [
    "## Solution to part 1:"
   ]
  },
  {
   "cell_type": "code",
   "execution_count": 11,
   "metadata": {},
   "outputs": [
    {
     "data": {
      "text/plain": [
       "White                 27816\n",
       "Black                  3124\n",
       "Asian-Pac-Islander     1039\n",
       "Amer-Indian-Eskimo      311\n",
       "Other                   271\n",
       "Name: race, dtype: int64"
      ]
     },
     "execution_count": 11,
     "metadata": {},
     "output_type": "execute_result"
    }
   ],
   "source": [
    "df[\"race\"].value_counts()"
   ]
  },
  {
   "cell_type": "markdown",
   "metadata": {},
   "source": [
    "## Solution to part 2:"
   ]
  },
  {
   "cell_type": "code",
   "execution_count": 19,
   "metadata": {},
   "outputs": [
    {
     "data": {
      "text/plain": [
       "39.43354749885268"
      ]
     },
     "execution_count": 19,
     "metadata": {},
     "output_type": "execute_result"
    }
   ],
   "source": [
    "df[df[\"sex\"] == \"Male\"][\"age\"].mean()"
   ]
  },
  {
   "cell_type": "code",
   "execution_count": 21,
   "metadata": {},
   "outputs": [
    {
     "data": {
      "text/plain": [
       "32561"
      ]
     },
     "execution_count": 21,
     "metadata": {},
     "output_type": "execute_result"
    }
   ],
   "source": [
    "len(df.index)  # How many entries are there?"
   ]
  },
  {
   "cell_type": "code",
   "execution_count": 24,
   "metadata": {},
   "outputs": [
    {
     "data": {
      "text/plain": [
       "5355"
      ]
     },
     "execution_count": 24,
     "metadata": {},
     "output_type": "execute_result"
    }
   ],
   "source": [
    "len(df[df[\"education\"] == \"Bachelors\"].index)"
   ]
  },
  {
   "cell_type": "markdown",
   "metadata": {},
   "source": [
    "## Solution to part 3:"
   ]
  },
  {
   "cell_type": "code",
   "execution_count": 28,
   "metadata": {},
   "outputs": [
    {
     "data": {
      "text/plain": [
       "16.44605509658794"
      ]
     },
     "execution_count": 28,
     "metadata": {},
     "output_type": "execute_result"
    }
   ],
   "source": [
    "(len(df[df[\"education\"] == \"Bachelors\"].index) / len(df.index)) * 100"
   ]
  },
  {
   "cell_type": "code",
   "execution_count": 47,
   "metadata": {},
   "outputs": [
    {
     "data": {
      "text/plain": [
       "7491"
      ]
     },
     "execution_count": 47,
     "metadata": {},
     "output_type": "execute_result"
    }
   ],
   "source": [
    "((df[\"education\"] == \"Bachelors\") | (df[\"education\"] == \"Masters\") | (df[\"education\"] == \"Doctorate\")).sum()"
   ]
  },
  {
   "cell_type": "code",
   "execution_count": 39,
   "metadata": {},
   "outputs": [
    {
     "data": {
      "text/plain": [
       "0        False\n",
       "1        False\n",
       "2        False\n",
       "3        False\n",
       "4        False\n",
       "         ...  \n",
       "32556    False\n",
       "32557    False\n",
       "32558    False\n",
       "32559    False\n",
       "32560    False\n",
       "Name: education, Length: 32561, dtype: bool"
      ]
     },
     "execution_count": 39,
     "metadata": {},
     "output_type": "execute_result"
    }
   ],
   "source": [
    "df[\"education\"] == \"Masters\""
   ]
  },
  {
   "cell_type": "markdown",
   "metadata": {},
   "source": [
    "## Solution to part 4"
   ]
  },
  {
   "cell_type": "code",
   "execution_count": 60,
   "metadata": {},
   "outputs": [
    {
     "data": {
      "text/plain": [
       "46.535843011613935"
      ]
     },
     "execution_count": 60,
     "metadata": {},
     "output_type": "execute_result"
    }
   ],
   "source": [
    "adv_edu_count = len(df[df[\"education\"].isin(pd.Series([\"Bachelors\",\"Masters\",\"Doctorate\"]))].index)\n",
    "adv_over_50k = (df[df[\"education\"].isin(pd.Series([\"Bachelors\",\"Masters\",\"Doctorate\"]))][\"salary\"] == \">50K\").sum()\n",
    "(adv_over_50k / adv_edu_count) * 100"
   ]
  },
  {
   "cell_type": "code",
   "execution_count": 53,
   "metadata": {},
   "outputs": [
    {
     "data": {
      "text/html": [
       "<div>\n",
       "<style scoped>\n",
       "    .dataframe tbody tr th:only-of-type {\n",
       "        vertical-align: middle;\n",
       "    }\n",
       "\n",
       "    .dataframe tbody tr th {\n",
       "        vertical-align: top;\n",
       "    }\n",
       "\n",
       "    .dataframe thead th {\n",
       "        text-align: right;\n",
       "    }\n",
       "</style>\n",
       "<table border=\"1\" class=\"dataframe\">\n",
       "  <thead>\n",
       "    <tr style=\"text-align: right;\">\n",
       "      <th></th>\n",
       "      <th>age</th>\n",
       "      <th>workclass</th>\n",
       "      <th>fnlwgt</th>\n",
       "      <th>education</th>\n",
       "      <th>education-num</th>\n",
       "      <th>marital-status</th>\n",
       "      <th>occupation</th>\n",
       "      <th>relationship</th>\n",
       "      <th>race</th>\n",
       "      <th>sex</th>\n",
       "      <th>capital-gain</th>\n",
       "      <th>capital-loss</th>\n",
       "      <th>hours-per-week</th>\n",
       "      <th>native-country</th>\n",
       "      <th>salary</th>\n",
       "    </tr>\n",
       "  </thead>\n",
       "  <tbody>\n",
       "    <tr>\n",
       "      <th>0</th>\n",
       "      <td>39</td>\n",
       "      <td>State-gov</td>\n",
       "      <td>77516</td>\n",
       "      <td>Bachelors</td>\n",
       "      <td>13</td>\n",
       "      <td>Never-married</td>\n",
       "      <td>Adm-clerical</td>\n",
       "      <td>Not-in-family</td>\n",
       "      <td>White</td>\n",
       "      <td>Male</td>\n",
       "      <td>2174</td>\n",
       "      <td>0</td>\n",
       "      <td>40</td>\n",
       "      <td>United-States</td>\n",
       "      <td>&lt;=50K</td>\n",
       "    </tr>\n",
       "    <tr>\n",
       "      <th>1</th>\n",
       "      <td>50</td>\n",
       "      <td>Self-emp-not-inc</td>\n",
       "      <td>83311</td>\n",
       "      <td>Bachelors</td>\n",
       "      <td>13</td>\n",
       "      <td>Married-civ-spouse</td>\n",
       "      <td>Exec-managerial</td>\n",
       "      <td>Husband</td>\n",
       "      <td>White</td>\n",
       "      <td>Male</td>\n",
       "      <td>0</td>\n",
       "      <td>0</td>\n",
       "      <td>13</td>\n",
       "      <td>United-States</td>\n",
       "      <td>&lt;=50K</td>\n",
       "    </tr>\n",
       "    <tr>\n",
       "      <th>4</th>\n",
       "      <td>28</td>\n",
       "      <td>Private</td>\n",
       "      <td>338409</td>\n",
       "      <td>Bachelors</td>\n",
       "      <td>13</td>\n",
       "      <td>Married-civ-spouse</td>\n",
       "      <td>Prof-specialty</td>\n",
       "      <td>Wife</td>\n",
       "      <td>Black</td>\n",
       "      <td>Female</td>\n",
       "      <td>0</td>\n",
       "      <td>0</td>\n",
       "      <td>40</td>\n",
       "      <td>Cuba</td>\n",
       "      <td>&lt;=50K</td>\n",
       "    </tr>\n",
       "    <tr>\n",
       "      <th>5</th>\n",
       "      <td>37</td>\n",
       "      <td>Private</td>\n",
       "      <td>284582</td>\n",
       "      <td>Masters</td>\n",
       "      <td>14</td>\n",
       "      <td>Married-civ-spouse</td>\n",
       "      <td>Exec-managerial</td>\n",
       "      <td>Wife</td>\n",
       "      <td>White</td>\n",
       "      <td>Female</td>\n",
       "      <td>0</td>\n",
       "      <td>0</td>\n",
       "      <td>40</td>\n",
       "      <td>United-States</td>\n",
       "      <td>&lt;=50K</td>\n",
       "    </tr>\n",
       "    <tr>\n",
       "      <th>8</th>\n",
       "      <td>31</td>\n",
       "      <td>Private</td>\n",
       "      <td>45781</td>\n",
       "      <td>Masters</td>\n",
       "      <td>14</td>\n",
       "      <td>Never-married</td>\n",
       "      <td>Prof-specialty</td>\n",
       "      <td>Not-in-family</td>\n",
       "      <td>White</td>\n",
       "      <td>Female</td>\n",
       "      <td>14084</td>\n",
       "      <td>0</td>\n",
       "      <td>50</td>\n",
       "      <td>United-States</td>\n",
       "      <td>&gt;50K</td>\n",
       "    </tr>\n",
       "    <tr>\n",
       "      <th>...</th>\n",
       "      <td>...</td>\n",
       "      <td>...</td>\n",
       "      <td>...</td>\n",
       "      <td>...</td>\n",
       "      <td>...</td>\n",
       "      <td>...</td>\n",
       "      <td>...</td>\n",
       "      <td>...</td>\n",
       "      <td>...</td>\n",
       "      <td>...</td>\n",
       "      <td>...</td>\n",
       "      <td>...</td>\n",
       "      <td>...</td>\n",
       "      <td>...</td>\n",
       "      <td>...</td>\n",
       "    </tr>\n",
       "    <tr>\n",
       "      <th>32538</th>\n",
       "      <td>38</td>\n",
       "      <td>Private</td>\n",
       "      <td>139180</td>\n",
       "      <td>Bachelors</td>\n",
       "      <td>13</td>\n",
       "      <td>Divorced</td>\n",
       "      <td>Prof-specialty</td>\n",
       "      <td>Unmarried</td>\n",
       "      <td>Black</td>\n",
       "      <td>Female</td>\n",
       "      <td>15020</td>\n",
       "      <td>0</td>\n",
       "      <td>45</td>\n",
       "      <td>United-States</td>\n",
       "      <td>&gt;50K</td>\n",
       "    </tr>\n",
       "    <tr>\n",
       "      <th>32539</th>\n",
       "      <td>71</td>\n",
       "      <td>?</td>\n",
       "      <td>287372</td>\n",
       "      <td>Doctorate</td>\n",
       "      <td>16</td>\n",
       "      <td>Married-civ-spouse</td>\n",
       "      <td>?</td>\n",
       "      <td>Husband</td>\n",
       "      <td>White</td>\n",
       "      <td>Male</td>\n",
       "      <td>0</td>\n",
       "      <td>0</td>\n",
       "      <td>10</td>\n",
       "      <td>United-States</td>\n",
       "      <td>&gt;50K</td>\n",
       "    </tr>\n",
       "    <tr>\n",
       "      <th>32544</th>\n",
       "      <td>31</td>\n",
       "      <td>Private</td>\n",
       "      <td>199655</td>\n",
       "      <td>Masters</td>\n",
       "      <td>14</td>\n",
       "      <td>Divorced</td>\n",
       "      <td>Other-service</td>\n",
       "      <td>Not-in-family</td>\n",
       "      <td>Other</td>\n",
       "      <td>Female</td>\n",
       "      <td>0</td>\n",
       "      <td>0</td>\n",
       "      <td>30</td>\n",
       "      <td>United-States</td>\n",
       "      <td>&lt;=50K</td>\n",
       "    </tr>\n",
       "    <tr>\n",
       "      <th>32553</th>\n",
       "      <td>32</td>\n",
       "      <td>Private</td>\n",
       "      <td>116138</td>\n",
       "      <td>Masters</td>\n",
       "      <td>14</td>\n",
       "      <td>Never-married</td>\n",
       "      <td>Tech-support</td>\n",
       "      <td>Not-in-family</td>\n",
       "      <td>Asian-Pac-Islander</td>\n",
       "      <td>Male</td>\n",
       "      <td>0</td>\n",
       "      <td>0</td>\n",
       "      <td>11</td>\n",
       "      <td>Taiwan</td>\n",
       "      <td>&lt;=50K</td>\n",
       "    </tr>\n",
       "    <tr>\n",
       "      <th>32554</th>\n",
       "      <td>53</td>\n",
       "      <td>Private</td>\n",
       "      <td>321865</td>\n",
       "      <td>Masters</td>\n",
       "      <td>14</td>\n",
       "      <td>Married-civ-spouse</td>\n",
       "      <td>Exec-managerial</td>\n",
       "      <td>Husband</td>\n",
       "      <td>White</td>\n",
       "      <td>Male</td>\n",
       "      <td>0</td>\n",
       "      <td>0</td>\n",
       "      <td>40</td>\n",
       "      <td>United-States</td>\n",
       "      <td>&gt;50K</td>\n",
       "    </tr>\n",
       "  </tbody>\n",
       "</table>\n",
       "<p>7491 rows × 15 columns</p>\n",
       "</div>"
      ],
      "text/plain": [
       "       age         workclass  fnlwgt  education  education-num  \\\n",
       "0       39         State-gov   77516  Bachelors             13   \n",
       "1       50  Self-emp-not-inc   83311  Bachelors             13   \n",
       "4       28           Private  338409  Bachelors             13   \n",
       "5       37           Private  284582    Masters             14   \n",
       "8       31           Private   45781    Masters             14   \n",
       "...    ...               ...     ...        ...            ...   \n",
       "32538   38           Private  139180  Bachelors             13   \n",
       "32539   71                 ?  287372  Doctorate             16   \n",
       "32544   31           Private  199655    Masters             14   \n",
       "32553   32           Private  116138    Masters             14   \n",
       "32554   53           Private  321865    Masters             14   \n",
       "\n",
       "           marital-status       occupation   relationship                race  \\\n",
       "0           Never-married     Adm-clerical  Not-in-family               White   \n",
       "1      Married-civ-spouse  Exec-managerial        Husband               White   \n",
       "4      Married-civ-spouse   Prof-specialty           Wife               Black   \n",
       "5      Married-civ-spouse  Exec-managerial           Wife               White   \n",
       "8           Never-married   Prof-specialty  Not-in-family               White   \n",
       "...                   ...              ...            ...                 ...   \n",
       "32538            Divorced   Prof-specialty      Unmarried               Black   \n",
       "32539  Married-civ-spouse                ?        Husband               White   \n",
       "32544            Divorced    Other-service  Not-in-family               Other   \n",
       "32553       Never-married     Tech-support  Not-in-family  Asian-Pac-Islander   \n",
       "32554  Married-civ-spouse  Exec-managerial        Husband               White   \n",
       "\n",
       "          sex  capital-gain  capital-loss  hours-per-week native-country  \\\n",
       "0        Male          2174             0              40  United-States   \n",
       "1        Male             0             0              13  United-States   \n",
       "4      Female             0             0              40           Cuba   \n",
       "5      Female             0             0              40  United-States   \n",
       "8      Female         14084             0              50  United-States   \n",
       "...       ...           ...           ...             ...            ...   \n",
       "32538  Female         15020             0              45  United-States   \n",
       "32539    Male             0             0              10  United-States   \n",
       "32544  Female             0             0              30  United-States   \n",
       "32553    Male             0             0              11         Taiwan   \n",
       "32554    Male             0             0              40  United-States   \n",
       "\n",
       "      salary  \n",
       "0      <=50K  \n",
       "1      <=50K  \n",
       "4      <=50K  \n",
       "5      <=50K  \n",
       "8       >50K  \n",
       "...      ...  \n",
       "32538   >50K  \n",
       "32539   >50K  \n",
       "32544  <=50K  \n",
       "32553  <=50K  \n",
       "32554   >50K  \n",
       "\n",
       "[7491 rows x 15 columns]"
      ]
     },
     "execution_count": 53,
     "metadata": {},
     "output_type": "execute_result"
    }
   ],
   "source": [
    "df[df[\"education\"].isin(pd.Series([\"Bachelors\",\"Masters\",\"Doctorate\"]))]"
   ]
  },
  {
   "cell_type": "code",
   "execution_count": 59,
   "metadata": {},
   "outputs": [
    {
     "data": {
      "text/plain": [
       "3486"
      ]
     },
     "execution_count": 59,
     "metadata": {},
     "output_type": "execute_result"
    }
   ],
   "source": [
    "(df[df[\"education\"].isin(pd.Series([\"Bachelors\",\"Masters\",\"Doctorate\"]))][\"salary\"] == \">50K\").sum()"
   ]
  },
  {
   "cell_type": "markdown",
   "metadata": {},
   "source": [
    "## Solution to part 5"
   ]
  },
  {
   "cell_type": "code",
   "execution_count": 129,
   "metadata": {},
   "outputs": [
    {
     "data": {
      "text/plain": [
       "17.3713601914639"
      ]
     },
     "execution_count": 129,
     "metadata": {},
     "output_type": "execute_result"
    }
   ],
   "source": [
    "low_edu_count = len(df[~df[\"education\"].isin(pd.Series([\"Bachelors\",\"Masters\",\"Doctorate\"]))].index)\n",
    "low_over_50k = (df[~df[\"education\"].isin(pd.Series([\"Bachelors\",\"Masters\",\"Doctorate\"]))][\"salary\"] == \">50K\").sum()\n",
    "(low_over_50k / low_edu_count) * 100"
   ]
  },
  {
   "cell_type": "markdown",
   "metadata": {},
   "source": [
    "## Solution to part 6"
   ]
  },
  {
   "cell_type": "code",
   "execution_count": 66,
   "metadata": {},
   "outputs": [
    {
     "data": {
      "text/plain": [
       "1"
      ]
     },
     "execution_count": 66,
     "metadata": {},
     "output_type": "execute_result"
    }
   ],
   "source": [
    "df[\"hours-per-week\"].min()"
   ]
  },
  {
   "cell_type": "markdown",
   "metadata": {},
   "source": [
    "## Solution to part 7"
   ]
  },
  {
   "cell_type": "code",
   "execution_count": 130,
   "metadata": {},
   "outputs": [
    {
     "data": {
      "text/plain": [
       "10.0"
      ]
     },
     "execution_count": 130,
     "metadata": {},
     "output_type": "execute_result"
    }
   ],
   "source": [
    "min_hours_count = len(df[df[\"hours-per-week\"] == df[\"hours-per-week\"].min()].index)\n",
    "min_over_50k = (df[df[\"hours-per-week\"] == df[\"hours-per-week\"].min()][\"salary\"] == \">50K\").sum()\n",
    "(min_over_50k / min_hours_count) * 100"
   ]
  },
  {
   "cell_type": "code",
   "execution_count": 80,
   "metadata": {},
   "outputs": [
    {
     "data": {
      "text/html": [
       "<div>\n",
       "<style scoped>\n",
       "    .dataframe tbody tr th:only-of-type {\n",
       "        vertical-align: middle;\n",
       "    }\n",
       "\n",
       "    .dataframe tbody tr th {\n",
       "        vertical-align: top;\n",
       "    }\n",
       "\n",
       "    .dataframe thead th {\n",
       "        text-align: right;\n",
       "    }\n",
       "</style>\n",
       "<table border=\"1\" class=\"dataframe\">\n",
       "  <thead>\n",
       "    <tr style=\"text-align: right;\">\n",
       "      <th></th>\n",
       "      <th>age</th>\n",
       "      <th>workclass</th>\n",
       "      <th>fnlwgt</th>\n",
       "      <th>education</th>\n",
       "      <th>education-num</th>\n",
       "      <th>marital-status</th>\n",
       "      <th>occupation</th>\n",
       "      <th>relationship</th>\n",
       "      <th>race</th>\n",
       "      <th>sex</th>\n",
       "      <th>capital-gain</th>\n",
       "      <th>capital-loss</th>\n",
       "      <th>hours-per-week</th>\n",
       "      <th>native-country</th>\n",
       "      <th>salary</th>\n",
       "    </tr>\n",
       "  </thead>\n",
       "  <tbody>\n",
       "    <tr>\n",
       "      <th>7</th>\n",
       "      <td>52</td>\n",
       "      <td>Self-emp-not-inc</td>\n",
       "      <td>209642</td>\n",
       "      <td>HS-grad</td>\n",
       "      <td>9</td>\n",
       "      <td>Married-civ-spouse</td>\n",
       "      <td>Exec-managerial</td>\n",
       "      <td>Husband</td>\n",
       "      <td>White</td>\n",
       "      <td>Male</td>\n",
       "      <td>0</td>\n",
       "      <td>0</td>\n",
       "      <td>45</td>\n",
       "      <td>United-States</td>\n",
       "      <td>&gt;50K</td>\n",
       "    </tr>\n",
       "    <tr>\n",
       "      <th>8</th>\n",
       "      <td>31</td>\n",
       "      <td>Private</td>\n",
       "      <td>45781</td>\n",
       "      <td>Masters</td>\n",
       "      <td>14</td>\n",
       "      <td>Never-married</td>\n",
       "      <td>Prof-specialty</td>\n",
       "      <td>Not-in-family</td>\n",
       "      <td>White</td>\n",
       "      <td>Female</td>\n",
       "      <td>14084</td>\n",
       "      <td>0</td>\n",
       "      <td>50</td>\n",
       "      <td>United-States</td>\n",
       "      <td>&gt;50K</td>\n",
       "    </tr>\n",
       "    <tr>\n",
       "      <th>9</th>\n",
       "      <td>42</td>\n",
       "      <td>Private</td>\n",
       "      <td>159449</td>\n",
       "      <td>Bachelors</td>\n",
       "      <td>13</td>\n",
       "      <td>Married-civ-spouse</td>\n",
       "      <td>Exec-managerial</td>\n",
       "      <td>Husband</td>\n",
       "      <td>White</td>\n",
       "      <td>Male</td>\n",
       "      <td>5178</td>\n",
       "      <td>0</td>\n",
       "      <td>40</td>\n",
       "      <td>United-States</td>\n",
       "      <td>&gt;50K</td>\n",
       "    </tr>\n",
       "    <tr>\n",
       "      <th>10</th>\n",
       "      <td>37</td>\n",
       "      <td>Private</td>\n",
       "      <td>280464</td>\n",
       "      <td>Some-college</td>\n",
       "      <td>10</td>\n",
       "      <td>Married-civ-spouse</td>\n",
       "      <td>Exec-managerial</td>\n",
       "      <td>Husband</td>\n",
       "      <td>Black</td>\n",
       "      <td>Male</td>\n",
       "      <td>0</td>\n",
       "      <td>0</td>\n",
       "      <td>80</td>\n",
       "      <td>United-States</td>\n",
       "      <td>&gt;50K</td>\n",
       "    </tr>\n",
       "    <tr>\n",
       "      <th>11</th>\n",
       "      <td>30</td>\n",
       "      <td>State-gov</td>\n",
       "      <td>141297</td>\n",
       "      <td>Bachelors</td>\n",
       "      <td>13</td>\n",
       "      <td>Married-civ-spouse</td>\n",
       "      <td>Prof-specialty</td>\n",
       "      <td>Husband</td>\n",
       "      <td>Asian-Pac-Islander</td>\n",
       "      <td>Male</td>\n",
       "      <td>0</td>\n",
       "      <td>0</td>\n",
       "      <td>40</td>\n",
       "      <td>India</td>\n",
       "      <td>&gt;50K</td>\n",
       "    </tr>\n",
       "    <tr>\n",
       "      <th>...</th>\n",
       "      <td>...</td>\n",
       "      <td>...</td>\n",
       "      <td>...</td>\n",
       "      <td>...</td>\n",
       "      <td>...</td>\n",
       "      <td>...</td>\n",
       "      <td>...</td>\n",
       "      <td>...</td>\n",
       "      <td>...</td>\n",
       "      <td>...</td>\n",
       "      <td>...</td>\n",
       "      <td>...</td>\n",
       "      <td>...</td>\n",
       "      <td>...</td>\n",
       "      <td>...</td>\n",
       "    </tr>\n",
       "    <tr>\n",
       "      <th>32539</th>\n",
       "      <td>71</td>\n",
       "      <td>?</td>\n",
       "      <td>287372</td>\n",
       "      <td>Doctorate</td>\n",
       "      <td>16</td>\n",
       "      <td>Married-civ-spouse</td>\n",
       "      <td>?</td>\n",
       "      <td>Husband</td>\n",
       "      <td>White</td>\n",
       "      <td>Male</td>\n",
       "      <td>0</td>\n",
       "      <td>0</td>\n",
       "      <td>10</td>\n",
       "      <td>United-States</td>\n",
       "      <td>&gt;50K</td>\n",
       "    </tr>\n",
       "    <tr>\n",
       "      <th>32545</th>\n",
       "      <td>39</td>\n",
       "      <td>Local-gov</td>\n",
       "      <td>111499</td>\n",
       "      <td>Assoc-acdm</td>\n",
       "      <td>12</td>\n",
       "      <td>Married-civ-spouse</td>\n",
       "      <td>Adm-clerical</td>\n",
       "      <td>Wife</td>\n",
       "      <td>White</td>\n",
       "      <td>Female</td>\n",
       "      <td>0</td>\n",
       "      <td>0</td>\n",
       "      <td>20</td>\n",
       "      <td>United-States</td>\n",
       "      <td>&gt;50K</td>\n",
       "    </tr>\n",
       "    <tr>\n",
       "      <th>32554</th>\n",
       "      <td>53</td>\n",
       "      <td>Private</td>\n",
       "      <td>321865</td>\n",
       "      <td>Masters</td>\n",
       "      <td>14</td>\n",
       "      <td>Married-civ-spouse</td>\n",
       "      <td>Exec-managerial</td>\n",
       "      <td>Husband</td>\n",
       "      <td>White</td>\n",
       "      <td>Male</td>\n",
       "      <td>0</td>\n",
       "      <td>0</td>\n",
       "      <td>40</td>\n",
       "      <td>United-States</td>\n",
       "      <td>&gt;50K</td>\n",
       "    </tr>\n",
       "    <tr>\n",
       "      <th>32557</th>\n",
       "      <td>40</td>\n",
       "      <td>Private</td>\n",
       "      <td>154374</td>\n",
       "      <td>HS-grad</td>\n",
       "      <td>9</td>\n",
       "      <td>Married-civ-spouse</td>\n",
       "      <td>Machine-op-inspct</td>\n",
       "      <td>Husband</td>\n",
       "      <td>White</td>\n",
       "      <td>Male</td>\n",
       "      <td>0</td>\n",
       "      <td>0</td>\n",
       "      <td>40</td>\n",
       "      <td>United-States</td>\n",
       "      <td>&gt;50K</td>\n",
       "    </tr>\n",
       "    <tr>\n",
       "      <th>32560</th>\n",
       "      <td>52</td>\n",
       "      <td>Self-emp-inc</td>\n",
       "      <td>287927</td>\n",
       "      <td>HS-grad</td>\n",
       "      <td>9</td>\n",
       "      <td>Married-civ-spouse</td>\n",
       "      <td>Exec-managerial</td>\n",
       "      <td>Wife</td>\n",
       "      <td>White</td>\n",
       "      <td>Female</td>\n",
       "      <td>15024</td>\n",
       "      <td>0</td>\n",
       "      <td>40</td>\n",
       "      <td>United-States</td>\n",
       "      <td>&gt;50K</td>\n",
       "    </tr>\n",
       "  </tbody>\n",
       "</table>\n",
       "<p>7841 rows × 15 columns</p>\n",
       "</div>"
      ],
      "text/plain": [
       "       age         workclass  fnlwgt     education  education-num  \\\n",
       "7       52  Self-emp-not-inc  209642       HS-grad              9   \n",
       "8       31           Private   45781       Masters             14   \n",
       "9       42           Private  159449     Bachelors             13   \n",
       "10      37           Private  280464  Some-college             10   \n",
       "11      30         State-gov  141297     Bachelors             13   \n",
       "...    ...               ...     ...           ...            ...   \n",
       "32539   71                 ?  287372     Doctorate             16   \n",
       "32545   39         Local-gov  111499    Assoc-acdm             12   \n",
       "32554   53           Private  321865       Masters             14   \n",
       "32557   40           Private  154374       HS-grad              9   \n",
       "32560   52      Self-emp-inc  287927       HS-grad              9   \n",
       "\n",
       "           marital-status         occupation   relationship  \\\n",
       "7      Married-civ-spouse    Exec-managerial        Husband   \n",
       "8           Never-married     Prof-specialty  Not-in-family   \n",
       "9      Married-civ-spouse    Exec-managerial        Husband   \n",
       "10     Married-civ-spouse    Exec-managerial        Husband   \n",
       "11     Married-civ-spouse     Prof-specialty        Husband   \n",
       "...                   ...                ...            ...   \n",
       "32539  Married-civ-spouse                  ?        Husband   \n",
       "32545  Married-civ-spouse       Adm-clerical           Wife   \n",
       "32554  Married-civ-spouse    Exec-managerial        Husband   \n",
       "32557  Married-civ-spouse  Machine-op-inspct        Husband   \n",
       "32560  Married-civ-spouse    Exec-managerial           Wife   \n",
       "\n",
       "                     race     sex  capital-gain  capital-loss  hours-per-week  \\\n",
       "7                   White    Male             0             0              45   \n",
       "8                   White  Female         14084             0              50   \n",
       "9                   White    Male          5178             0              40   \n",
       "10                  Black    Male             0             0              80   \n",
       "11     Asian-Pac-Islander    Male             0             0              40   \n",
       "...                   ...     ...           ...           ...             ...   \n",
       "32539               White    Male             0             0              10   \n",
       "32545               White  Female             0             0              20   \n",
       "32554               White    Male             0             0              40   \n",
       "32557               White    Male             0             0              40   \n",
       "32560               White  Female         15024             0              40   \n",
       "\n",
       "      native-country salary  \n",
       "7      United-States   >50K  \n",
       "8      United-States   >50K  \n",
       "9      United-States   >50K  \n",
       "10     United-States   >50K  \n",
       "11             India   >50K  \n",
       "...              ...    ...  \n",
       "32539  United-States   >50K  \n",
       "32545  United-States   >50K  \n",
       "32554  United-States   >50K  \n",
       "32557  United-States   >50K  \n",
       "32560  United-States   >50K  \n",
       "\n",
       "[7841 rows x 15 columns]"
      ]
     },
     "execution_count": 80,
     "metadata": {},
     "output_type": "execute_result"
    }
   ],
   "source": [
    "df[df[\"salary\"] == \">50K\"]  # All earning over 50K"
   ]
  },
  {
   "cell_type": "code",
   "execution_count": 96,
   "metadata": {},
   "outputs": [
    {
     "data": {
      "text/plain": [
       "native-country\n",
       "?                      146\n",
       "Cambodia                 7\n",
       "Canada                  39\n",
       "China                   20\n",
       "Columbia                 2\n",
       "Cuba                    25\n",
       "Dominican-Republic       2\n",
       "Ecuador                  4\n",
       "El-Salvador              9\n",
       "England                 30\n",
       "France                  12\n",
       "Germany                 44\n",
       "Greece                   8\n",
       "Guatemala                3\n",
       "Haiti                    4\n",
       "Honduras                 1\n",
       "Hong                     6\n",
       "Hungary                  3\n",
       "India                   40\n",
       "Iran                    18\n",
       "Ireland                  5\n",
       "Italy                   25\n",
       "Jamaica                 10\n",
       "Japan                   24\n",
       "Laos                     2\n",
       "Mexico                  33\n",
       "Nicaragua                2\n",
       "Peru                     2\n",
       "Philippines             61\n",
       "Poland                  12\n",
       "Portugal                 4\n",
       "Puerto-Rico             12\n",
       "Scotland                 3\n",
       "South                   16\n",
       "Taiwan                  20\n",
       "Thailand                 3\n",
       "Trinadad&Tobago          2\n",
       "United-States         7171\n",
       "Vietnam                  5\n",
       "Yugoslavia               6\n",
       "Name: salary, dtype: int64"
      ]
     },
     "execution_count": 96,
     "metadata": {},
     "output_type": "execute_result"
    }
   ],
   "source": [
    "(df[df[\"salary\"] == \">50K\"].groupby([\"native-country\"]))[\"salary\"].count()"
   ]
  },
  {
   "cell_type": "code",
   "execution_count": 98,
   "metadata": {},
   "outputs": [
    {
     "data": {
      "text/plain": [
       "native-country\n",
       "?                               583\n",
       "Cambodia                         19\n",
       "Canada                          121\n",
       "China                            75\n",
       "Columbia                         59\n",
       "Cuba                             95\n",
       "Dominican-Republic               70\n",
       "Ecuador                          28\n",
       "El-Salvador                     106\n",
       "England                          90\n",
       "France                           29\n",
       "Germany                         137\n",
       "Greece                           29\n",
       "Guatemala                        64\n",
       "Haiti                            44\n",
       "Holand-Netherlands                1\n",
       "Honduras                         13\n",
       "Hong                             20\n",
       "Hungary                          13\n",
       "India                           100\n",
       "Iran                             43\n",
       "Ireland                          24\n",
       "Italy                            73\n",
       "Jamaica                          81\n",
       "Japan                            62\n",
       "Laos                             18\n",
       "Mexico                          643\n",
       "Nicaragua                        34\n",
       "Outlying-US(Guam-USVI-etc)       14\n",
       "Peru                             31\n",
       "Philippines                     198\n",
       "Poland                           60\n",
       "Portugal                         37\n",
       "Puerto-Rico                     114\n",
       "Scotland                         12\n",
       "South                            80\n",
       "Taiwan                           51\n",
       "Thailand                         18\n",
       "Trinadad&Tobago                  19\n",
       "United-States                 29170\n",
       "Vietnam                          67\n",
       "Yugoslavia                       16\n",
       "Name: salary, dtype: int64"
      ]
     },
     "execution_count": 98,
     "metadata": {},
     "output_type": "execute_result"
    }
   ],
   "source": [
    "df.groupby(\"native-country\")[\"salary\"].count()"
   ]
  },
  {
   "cell_type": "markdown",
   "metadata": {},
   "source": [
    "## Solution to part 8"
   ]
  },
  {
   "cell_type": "code",
   "execution_count": 114,
   "metadata": {},
   "outputs": [],
   "source": [
    "rich_percentage_per_country = ((df[df[\"salary\"] == \">50K\"].groupby(\"native-country\"))[\"salary\"].count() / df.groupby(\"native-country\")[\"salary\"].count()) * 100"
   ]
  },
  {
   "cell_type": "code",
   "execution_count": 115,
   "metadata": {},
   "outputs": [
    {
     "data": {
      "text/plain": [
       "'Iran'"
      ]
     },
     "execution_count": 115,
     "metadata": {},
     "output_type": "execute_result"
    }
   ],
   "source": [
    "rich_percentage_per_country.idxmax()"
   ]
  },
  {
   "cell_type": "code",
   "execution_count": 116,
   "metadata": {},
   "outputs": [
    {
     "data": {
      "text/plain": [
       "41.86046511627907"
      ]
     },
     "execution_count": 116,
     "metadata": {},
     "output_type": "execute_result"
    }
   ],
   "source": [
    "rich_percentage_per_country.max()"
   ]
  },
  {
   "cell_type": "code",
   "execution_count": 112,
   "metadata": {},
   "outputs": [
    {
     "data": {
      "text/plain": [
       "native-country\n",
       "?                             25.042882\n",
       "Cambodia                      36.842105\n",
       "Canada                        32.231405\n",
       "China                         26.666667\n",
       "Columbia                       3.389831\n",
       "Cuba                          26.315789\n",
       "Dominican-Republic             2.857143\n",
       "Ecuador                       14.285714\n",
       "El-Salvador                    8.490566\n",
       "England                       33.333333\n",
       "France                        41.379310\n",
       "Germany                       32.116788\n",
       "Greece                        27.586207\n",
       "Guatemala                      4.687500\n",
       "Haiti                          9.090909\n",
       "Holand-Netherlands                  NaN\n",
       "Honduras                       7.692308\n",
       "Hong                          30.000000\n",
       "Hungary                       23.076923\n",
       "India                         40.000000\n",
       "Iran                          41.860465\n",
       "Ireland                       20.833333\n",
       "Italy                         34.246575\n",
       "Jamaica                       12.345679\n",
       "Japan                         38.709677\n",
       "Laos                          11.111111\n",
       "Mexico                         5.132193\n",
       "Nicaragua                      5.882353\n",
       "Outlying-US(Guam-USVI-etc)          NaN\n",
       "Peru                           6.451613\n",
       "Philippines                   30.808081\n",
       "Poland                        20.000000\n",
       "Portugal                      10.810811\n",
       "Puerto-Rico                   10.526316\n",
       "Scotland                      25.000000\n",
       "South                         20.000000\n",
       "Taiwan                        39.215686\n",
       "Thailand                      16.666667\n",
       "Trinadad&Tobago               10.526316\n",
       "United-States                 24.583476\n",
       "Vietnam                        7.462687\n",
       "Yugoslavia                    37.500000\n",
       "Name: salary, dtype: float64"
      ]
     },
     "execution_count": 112,
     "metadata": {},
     "output_type": "execute_result"
    }
   ],
   "source": [
    "rich_percentage_per_country"
   ]
  },
  {
   "cell_type": "markdown",
   "metadata": {},
   "source": [
    "## Solution to part 9"
   ]
  },
  {
   "cell_type": "code",
   "execution_count": 128,
   "metadata": {},
   "outputs": [
    {
     "data": {
      "text/plain": [
       "'Prof-specialty'"
      ]
     },
     "execution_count": 128,
     "metadata": {},
     "output_type": "execute_result"
    }
   ],
   "source": [
    "(df[df[\"native-country\"] == \"India\"].groupby(\"occupation\"))[\"occupation\"].count().idxmax()"
   ]
  },
  {
   "cell_type": "code",
   "execution_count": null,
   "metadata": {},
   "outputs": [],
   "source": []
  }
 ],
 "metadata": {
  "kernelspec": {
   "display_name": "Python 3",
   "language": "python",
   "name": "python3"
  },
  "language_info": {
   "codemirror_mode": {
    "name": "ipython",
    "version": 3
   },
   "file_extension": ".py",
   "mimetype": "text/x-python",
   "name": "python",
   "nbconvert_exporter": "python",
   "pygments_lexer": "ipython3",
   "version": "3.8.3"
  }
 },
 "nbformat": 4,
 "nbformat_minor": 4
}
